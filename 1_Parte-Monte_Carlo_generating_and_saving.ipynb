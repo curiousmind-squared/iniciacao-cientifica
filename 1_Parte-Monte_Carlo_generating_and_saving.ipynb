{
 "cells": [
  {
   "cell_type": "code",
   "execution_count": 1,
   "id": "ef0b5255",
   "metadata": {},
   "outputs": [
    {
     "name": "stderr",
     "output_type": "stream",
     "text": [
      "2024-01-04 15:49:36.654339: I tensorflow/tsl/cuda/cudart_stub.cc:28] Could not find cuda drivers on your machine, GPU will not be used.\n",
      "2024-01-04 15:49:46.893896: I tensorflow/tsl/cuda/cudart_stub.cc:28] Could not find cuda drivers on your machine, GPU will not be used.\n",
      "2024-01-04 15:49:46.894759: I tensorflow/core/platform/cpu_feature_guard.cc:182] This TensorFlow binary is optimized to use available CPU instructions in performance-critical operations.\n",
      "To enable the following instructions: AVX2 FMA, in other operations, rebuild TensorFlow with the appropriate compiler flags.\n",
      "2024-01-04 15:50:27.745490: W tensorflow/compiler/tf2tensorrt/utils/py_utils.cc:38] TF-TRT Warning: Could not find TensorRT\n"
     ]
    }
   ],
   "source": [
    "import numpy as np\n",
    "import datetime as dt\n",
    "import json\n",
    "import matplotlib.pyplot as plt\n",
    "from tensorflow import keras\n",
    "from tensorflow.keras import layers\n",
    "from random import random\n",
    "from math import log, sqrt, exp\n",
    "import seaborn as sns"
   ]
  },
  {
   "cell_type": "markdown",
   "id": "b2995755",
   "metadata": {},
   "source": [
    "Temperatura da transição de fase. O que queremos que nossa rede aprenda "
   ]
  },
  {
   "cell_type": "code",
   "execution_count": 2,
   "id": "30f9a3ec",
   "metadata": {},
   "outputs": [
    {
     "data": {
      "text/plain": [
       "2.269185314213022"
      ]
     },
     "execution_count": 2,
     "metadata": {},
     "output_type": "execute_result"
    }
   ],
   "source": [
    "ising_tc = 1/(1/2*log(1+sqrt(2)))\n",
    "ising_tc"
   ]
  },
  {
   "cell_type": "code",
   "execution_count": 3,
   "id": "688083e9",
   "metadata": {},
   "outputs": [],
   "source": [
    "def up(neighs, i):\n",
    "    return neighs[0, i]\n",
    "def right(neighs, i):\n",
    "    return neighs[1, i]\n",
    "def down(neighs, i):\n",
    "    return neighs[2,i]\n",
    "def left(neighs, i):\n",
    "    return neighs[3,i]"
   ]
  },
  {
   "cell_type": "code",
   "execution_count": 4,
   "id": "6b4ba395",
   "metadata": {},
   "outputs": [],
   "source": [
    "def monte_carlo(arg_mes_rate, sweeps, L, T):\n",
    "    # sweeps > 5 deixa o código extremamente lento.\n",
    "    # Diferentemenete da linguagem Julia, que possui otimizações\n",
    "    nsweeps = 10**sweeps\n",
    "    measure_rate = arg_mes_rate\n",
    "    beta = 1/T\n",
    "    conf = np.random.choice([-1,1], size=[L,L])\n",
    "    confs = []\n",
    "    \n",
    "    lattice = np.arange(0,(L**2)).reshape(L,L).transpose() \n",
    " \n",
    "    ups = np.roll(lattice, -1, axis=0).flatten('F') \n",
    "    # Primeira linha vira ultima linha, todas as outras movem uma linha para \n",
    "    # cima, depois tudo é achatado em um único array, coluna por coluna\n",
    "    \n",
    "    rights = np.roll(lattice, -1, axis=1).flatten('F')\n",
    "    # Primeira coluna vira ultima coluna, todas as outras movem uma linha \n",
    "    # para esquerda, depois tudo é achatado em um único array, coluna por coluna \n",
    "    \n",
    "    downs = np.roll(lattice, 1, axis=0).flatten('F')\n",
    "    # Última linha vira primeira linha, todas as outras movem uma linha para \n",
    "    # baixo, depois tudo é achatado em um único array, coluna por coluna\n",
    "    \n",
    "    lefts = np.roll(lattice, 1, axis=1).flatten('F')\n",
    "    # Última coluna vira primeira coluna, todas as outras movem uma coluna para\n",
    "    # direita, depois tudo é achatado em um único array, coluna por coluna\n",
    "                                  \n",
    "    neighs = np.vstack((ups,rights,downs,lefts)) \n",
    "    # Todos são concatenados de forma vertical\n",
    "    \n",
    "    conf = conf.flatten() \n",
    "    # objetivo disso tudo foi para que possamos acessar todos os elementos\n",
    "    # de uma matriz como se estivessimos acessando um único array.\n",
    "    \n",
    "    \n",
    "    \n",
    "    start_time = dt.datetime.now()\n",
    "    print(\"Início às: \", start_time.strftime(\"%d-%m-%Y %H:%M:%S\"))\n",
    "    \n",
    "    for i in range(0, nsweeps):\n",
    "        for element in range(0, len(conf)):\n",
    "            \n",
    "            delta_e = 2.0 * conf[element] * (conf[up(neighs,element)] + conf[right(neighs, element)] +\n",
    "                            + conf[down(neighs, element)] + conf[left(neighs, element)])\n",
    "           \n",
    "            if delta_e <= 0 or random() < exp(-beta*delta_e):\n",
    "                conf[element] *= -1 # Flip\n",
    "                \n",
    "        if i % measure_rate == 0:\n",
    "            confs.append(conf.copy())\n",
    "    \n",
    "    end_time = dt.datetime.now()\n",
    "    print(\"Término às: \", end_time.strftime(\"%d-%m-%Y %H:%M:%S\"))\n",
    "    \n",
    "    return confs"
   ]
  },
  {
   "cell_type": "code",
   "execution_count": 5,
   "id": "a2e94eac",
   "metadata": {},
   "outputs": [
    {
     "name": "stdout",
     "output_type": "stream",
     "text": [
      "T =  1.189\n",
      "Início às:  04-01-2024 15:50:58\n",
      "Término às:  04-01-2024 16:31:03\n",
      "T =  1.733\n",
      "Início às:  04-01-2024 16:31:03\n",
      "Término às:  04-01-2024 17:12:31\n",
      "T =  2.069\n",
      "Início às:  04-01-2024 17:12:31\n",
      "Término às:  04-01-2024 17:52:24\n",
      "T =  2.269\n",
      "Início às:  04-01-2024 17:52:24\n",
      "Término às:  04-01-2024 18:32:46\n",
      "T =  2.278\n",
      "Início às:  04-01-2024 18:32:46\n",
      "Término às:  04-01-2024 19:13:02\n",
      "T =  2.469\n",
      "Início às:  04-01-2024 19:13:02\n",
      "Término às:  04-01-2024 19:53:03\n",
      "T =  2.822\n",
      "Início às:  04-01-2024 19:53:03\n",
      "Término às:  04-01-2024 20:33:22\n",
      "T =  3.367\n",
      "Início às:  04-01-2024 20:33:22\n",
      "Término às:  04-01-2024 21:14:22\n"
     ]
    }
   ],
   "source": [
    "ts = [1.189, 1.733, 2.069, 2.269, 2.278, 2.469, 2.822, 3.367]\n",
    "rate = 5000\n",
    "sweeps = 7\n",
    "\n",
    "confs = dict()\n",
    "for t in ts:\n",
    "    print(\"T = \", t)\n",
    "    temp = monte_carlo(rate, sweeps, L=8, T=t)\n",
    "    confs[t] = temp"
   ]
  },
  {
   "cell_type": "markdown",
   "id": "d937e7ca",
   "metadata": {},
   "source": [
    "Vamos gerar dados para um conjunto de 8 temperaturas(note que a temperatura exata de transição encontra-se no conjunto)"
   ]
  },
  {
   "cell_type": "code",
   "execution_count": 14,
   "id": "159362da",
   "metadata": {},
   "outputs": [
    {
     "data": {
      "text/plain": [
       "<AxesSubplot:>"
      ]
     },
     "execution_count": 14,
     "metadata": {},
     "output_type": "execute_result"
    },
    {
     "data": {
      "image/png": "[encoded data removed]",
      "text/plain": [
       "<Figure size 432x288 with 2 Axes>"
      ]
     },
     "metadata": {
      "needs_background": "light"
     },
     "output_type": "display_data"
    }
   ],
   "source": [
    "sns.heatmap(confs[ts[0]][10].reshape(8,8))"
   ]
  },
  {
   "cell_type": "code",
   "execution_count": 15,
   "id": "4764eab9",
   "metadata": {},
   "outputs": [
    {
     "data": {
      "text/plain": [
       "<AxesSubplot:>"
      ]
     },
     "execution_count": 15,
     "metadata": {},
     "output_type": "execute_result"
    },
    {
     "data": {
      "image/png": "[encoded data removed]",
      "text/plain": [
       "<Figure size 432x288 with 2 Axes>"
      ]
     },
     "metadata": {
      "needs_background": "light"
     },
     "output_type": "display_data"
    }
   ],
   "source": [
    "sns.heatmap(confs[ts[2]][10].reshape(8,8))"
   ]
  },
  {
   "cell_type": "code",
   "execution_count": 17,
   "id": "fcc5f9f5",
   "metadata": {},
   "outputs": [
    {
     "data": {
      "text/plain": [
       "<AxesSubplot:>"
      ]
     },
     "execution_count": 17,
     "metadata": {},
     "output_type": "execute_result"
    },
    {
     "data": {
      "image/png": "[encoded data removed]",
      "text/plain": [
       "<Figure size 432x288 with 2 Axes>"
      ]
     },
     "metadata": {
      "needs_background": "light"
     },
     "output_type": "display_data"
    }
   ],
   "source": [
    "sns.heatmap(confs[ts[4]][10].reshape(8,8))"
   ]
  },
  {
   "cell_type": "markdown",
   "id": "729fc84a",
   "metadata": {},
   "source": [
    "Em temperaturas mais baixas temos uma tendência de que os spins estejam alinhados, criando-se um sistema ferromagnético"
   ]
  },
  {
   "cell_type": "code",
   "execution_count": 19,
   "id": "1a077724",
   "metadata": {},
   "outputs": [
    {
     "data": {
      "text/plain": [
       "<AxesSubplot:>"
      ]
     },
     "execution_count": 19,
     "metadata": {},
     "output_type": "execute_result"
    },
    {
     "data": {
      "image/png": "[encoded data removed]",
      "text/plain": [
       "<Figure size 432x288 with 2 Axes>"
      ]
     },
     "metadata": {
      "needs_background": "light"
     },
     "output_type": "display_data"
    }
   ],
   "source": [
    "sns.heatmap(confs[ts[5]][10].reshape(8,8))"
   ]
  },
  {
   "cell_type": "code",
   "execution_count": 20,
   "id": "62765af4",
   "metadata": {},
   "outputs": [
    {
     "data": {
      "text/plain": [
       "<AxesSubplot:>"
      ]
     },
     "execution_count": 20,
     "metadata": {},
     "output_type": "execute_result"
    },
    {
     "data": {
      "image/png": "[encoded data removed]",
      "text/plain": [
       "<Figure size 432x288 with 2 Axes>"
      ]
     },
     "metadata": {
      "needs_background": "light"
     },
     "output_type": "display_data"
    }
   ],
   "source": [
    "sns.heatmap(confs[ts[7]][10].reshape(8,8))"
   ]
  },
  {
   "cell_type": "markdown",
   "id": "77037804",
   "metadata": {},
   "source": [
    "Em temperaturas mais altas vemos que os spins estão aleatoriamente distribuídos, temos um sistema paramagnético"
   ]
  },
  {
   "cell_type": "code",
   "execution_count": 21,
   "id": "a819c6c5",
   "metadata": {},
   "outputs": [
    {
     "name": "stdout",
     "output_type": "stream",
     "text": [
      "16000\n"
     ]
    }
   ],
   "source": [
    "count=0\n",
    "for item in confs.keys():\n",
    "    count += len(confs[item])\n",
    "print(count)"
   ]
  },
  {
   "cell_type": "markdown",
   "id": "9410d6c5",
   "metadata": {},
   "source": [
    "Temos 16000 amostrar para treinarmos e avaliarmos nosso modelo"
   ]
  },
  {
   "cell_type": "code",
   "execution_count": 22,
   "id": "fa4878af",
   "metadata": {},
   "outputs": [
    {
     "name": "stdout",
     "output_type": "stream",
     "text": [
      "Ferro:  1.189\n",
      "2000\n",
      "Ferro:  1.733\n",
      "2000\n",
      "Ferro:  2.069\n",
      "2000\n",
      "Ferro:  2.269\n",
      "2000\n",
      "Para:  2.278\n",
      "2000\n",
      "Para:  2.469\n",
      "2000\n",
      "Para:  2.822\n",
      "2000\n",
      "Para:  3.367\n",
      "2000\n"
     ]
    }
   ],
   "source": [
    "ferro_magnetic = list()\n",
    "para_magnetic = list()\n",
    "ferro_mag_code = list() # Código ferro == 0\n",
    "para_mag_code = list() #  Código para  == 1\n",
    "\n",
    "\n",
    "for item in confs.keys():\n",
    "    if item < ising_tc:\n",
    "        print(\"Ferro: \", item)\n",
    "        print(len(confs[item]))\n",
    "        ferro_magnetic += confs[item]\n",
    "        ferro_mag_code += [0 for i in range(0,len(confs[item]))]\n",
    "    elif item > ising_tc:\n",
    "        print(\"Para: \", item)\n",
    "        print(len(confs[item]))\n",
    "        para_magnetic += confs[item]\n",
    "        para_mag_code += [1 for i in range(0,len(confs[item]))]"
   ]
  },
  {
   "cell_type": "markdown",
   "id": "6ef14c6d",
   "metadata": {},
   "source": [
    "Queremos montar o seguinte esquema para salvarmos os dados:\n",
    "\n",
    "{1: [ ( [1, 2, 3], 0 ) ]"
   ]
  },
  {
   "cell_type": "code",
   "execution_count": 25,
   "id": "1e5916fc",
   "metadata": {},
   "outputs": [],
   "source": [
    "confs_classified = dict()\n",
    "\n",
    "for item in confs.keys():\n",
    "    confs_classified[item] = list()\n",
    "    if item < ising_tc:\n",
    "        for value in confs[item]:\n",
    "            tup = (value,0)\n",
    "            confs_classified[item].append(tup)\n",
    "    else:\n",
    "        for value in confs[item]:\n",
    "            tup = (value, 1)\n",
    "            confs_classified[item].append(tup)"
   ]
  },
  {
   "cell_type": "markdown",
   "id": "8e6e934a",
   "metadata": {},
   "source": [
    "Vamos reservar 20% das amostras para ser o conjunto de dados"
   ]
  },
  {
   "cell_type": "markdown",
   "id": "9206b2a5",
   "metadata": {},
   "source": [
    "Poderiamos utilizar a famosa \"train_test_split\" da biblioteca scikit learn, mas iremos utilizar apenas numpy "
   ]
  },
  {
   "cell_type": "code",
   "execution_count": 32,
   "id": "b5100f4b",
   "metadata": {},
   "outputs": [],
   "source": [
    "from random import sample"
   ]
  },
  {
   "cell_type": "code",
   "execution_count": 56,
   "id": "d0a204ed",
   "metadata": {},
   "outputs": [],
   "source": [
    "train = dict()\n",
    "test = dict()\n",
    "\n",
    "\n",
    "for temp in confs_classified.keys():\n",
    "    data_qtd = len(confs_classified[temp])\n",
    "    \n",
    "    sample_size = int(data_qtd*0.2) # 20% de cada temperatura para o conjunto de testes\n",
    "    \n",
    "    test_indices = [i for i in range(0, data_qtd)] # Geramos uma lista de números indo do 0 até o tamanho do conjunto\n",
    "    test_indices = sample(test_indices, sample_size) # Selecionamos uma parte desses números gerados, são os \n",
    "                                                     # indices \n",
    "    \n",
    "    test[temp] = list()\n",
    "    train[temp] = list()\n",
    "    \n",
    "    for pos in range(0, data_qtd):\n",
    "        \n",
    "        first_item2list = confs_classified[temp][pos][0].tolist()\n",
    "        second_item = confs_classified[temp][pos][1]\n",
    "        \n",
    "        \n",
    "        current_pos = (first_item2list,second_item)\n",
    "        \n",
    "        \n",
    "        if pos in test_indices:\n",
    "            test[temp].append(current_pos)\n",
    "        else:\n",
    "            train[temp].append(current_pos)\n",
    "    "
   ]
  },
  {
   "cell_type": "code",
   "execution_count": 64,
   "id": "94c4a60a",
   "metadata": {},
   "outputs": [],
   "source": [
    "def salva_teste():\n",
    "    file_name = \"test.txt\"\n",
    "    with open(file_name, 'w') as file:\n",
    "        json.dump(test, file)"
   ]
  },
  {
   "cell_type": "code",
   "execution_count": 65,
   "id": "a7faba9f",
   "metadata": {},
   "outputs": [],
   "source": [
    "def salva_treino():\n",
    "    file_name = \"train.txt\"\n",
    "    with open(file_name, 'w') as file:\n",
    "        json.dump(train, file)"
   ]
  },
  {
   "cell_type": "code",
   "execution_count": 66,
   "id": "d73f9872",
   "metadata": {},
   "outputs": [],
   "source": [
    "salva_teste()\n",
    "salva_treino()"
   ]
  }
 ],
 "metadata": {
  "kernelspec": {
   "display_name": "Python 3 (ipykernel)",
   "language": "python",
   "name": "python3"
  },
  "language_info": {
   "codemirror_mode": {
    "name": "ipython",
    "version": 3
   },
   "file_extension": ".py",
   "mimetype": "text/x-python",
   "name": "python",
   "nbconvert_exporter": "python",
   "pygments_lexer": "ipython3",
   "version": "3.9.12"
  }
 },
 "nbformat": 4,
 "nbformat_minor": 5
}
