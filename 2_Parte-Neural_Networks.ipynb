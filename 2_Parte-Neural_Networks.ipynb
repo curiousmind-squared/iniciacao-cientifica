{
 "cells": [
  {
   "cell_type": "code",
   "execution_count": 13,
   "id": "6426cc70",
   "metadata": {},
   "outputs": [],
   "source": [
    "import json\n",
    "import numpy as np\n",
    "from tensorflow import keras\n",
    "from tensorflow.keras import layers\n",
    "from math import log, sqrt\n",
    "import matplotlib.pyplot as plt\n",
    "import math"
   ]
  },
  {
   "cell_type": "code",
   "execution_count": 14,
   "id": "ebe94804",
   "metadata": {},
   "outputs": [
    {
     "data": {
      "text/plain": [
       "2.269185314213022"
      ]
     },
     "execution_count": 14,
     "metadata": {},
     "output_type": "execute_result"
    }
   ],
   "source": [
    "ising_tc = 1/(1/2*log(1+sqrt(2)))\n",
    "ising_tc"
   ]
  },
  {
   "cell_type": "code",
   "execution_count": 15,
   "id": "7587159c",
   "metadata": {},
   "outputs": [],
   "source": [
    "def abre_e_le(file_name):\n",
    "    with open(file_name, 'r') as file:\n",
    "        loaded_data = json.load(file)\n",
    "\n",
    "    return loaded_data"
   ]
  },
  {
   "cell_type": "code",
   "execution_count": 16,
   "id": "b25a1f88",
   "metadata": {},
   "outputs": [],
   "source": [
    "def deixa_no_capricho(json_dict):\n",
    "    arranged_dict = dict()\n",
    "    \n",
    "    for temp in json_dict.keys():\n",
    "        arranged_dict[float(temp)] = list()\n",
    "        for confs in json_dict[temp]:\n",
    "            conf = np.array(confs[0])\n",
    "            conf_class = confs[1]\n",
    "            arranged_dict[float(temp)].append((conf, conf_class))\n",
    "    \n",
    "    return arranged_dict"
   ]
  },
  {
   "cell_type": "markdown",
   "id": "4243afe2",
   "metadata": {},
   "source": [
    "As duas funções acima leem os arquvios salvos a partir de \"1_Parte-Monte_Carlo_generating_and_saving.ipynb\" e armazenam as informações nas estruturas de dados necessárias"
   ]
  },
  {
   "cell_type": "code",
   "execution_count": 17,
   "id": "cecc2c97",
   "metadata": {},
   "outputs": [],
   "source": [
    "def split(treino):\n",
    "    arr_of_arrs = list()\n",
    "    arr_of_class = list()\n",
    "    \n",
    "    for temp in treino.keys():\n",
    "        for confs in treino[temp]:\n",
    "            arr_of_arrs.append(confs[0])\n",
    "            arr_of_class.append(confs[1])\n",
    "    \n",
    "    arr_of_arrs = np.asarray(arr_of_arrs)\n",
    "    arr_of_class = np.asarray(arr_of_class).reshape((-1,1))\n",
    "    \n",
    "    return arr_of_arrs, arr_of_class"
   ]
  },
  {
   "cell_type": "markdown",
   "id": "152a6505",
   "metadata": {},
   "source": [
    "'split' separa o 'lattice' de sua classificação(ferromagnético ou paramagnético)"
   ]
  },
  {
   "cell_type": "code",
   "execution_count": 18,
   "id": "68aa07b0",
   "metadata": {},
   "outputs": [],
   "source": [
    "treino = abre_e_le(\"train.txt\")\n",
    "treino = deixa_no_capricho(treino)\n",
    "\n",
    "teste = abre_e_le(\"test.txt\")\n",
    "teste = deixa_no_capricho(teste)\n",
    "\n",
    "x_train, y_train = split(treino)\n",
    "x_test, y_test = split(teste)"
   ]
  },
  {
   "cell_type": "code",
   "execution_count": 19,
   "id": "11705533",
   "metadata": {},
   "outputs": [],
   "source": [
    "temp1 = [1.189 for i in range(0,len(teste[1.189]))]\n",
    "temp2 = [1.733 for i in range(0,len(teste[1.733]))]\n",
    "temp3 = [2.069 for i in range(0,len(teste[2.069]))]\n",
    "temp4 = [2.269 for i in range(0,len(teste[2.269]))]\n",
    "temp5 = [2.278 for i in range(0,len(teste[2.278]))]\n",
    "temp6 = [2.469 for i in range(0,len(teste[2.469]))]\n",
    "temp7 = [2.822 for i in range(0,len(teste[2.822]))]\n",
    "temp8 = [3.367 for i in range(0,len(teste[3.367]))]\n",
    "\n",
    "\n",
    "temps = temp1+temp2+temp3+temp4+temp5+temp6+temp7+temp8"
   ]
  },
  {
   "cell_type": "markdown",
   "id": "d2fc786f",
   "metadata": {},
   "source": [
    "'temps' será usado para construirmos as visualizações"
   ]
  },
  {
   "cell_type": "markdown",
   "id": "81e0d37d",
   "metadata": {},
   "source": [
    "### Rede simples"
   ]
  },
  {
   "cell_type": "code",
   "execution_count": 20,
   "id": "f62bf89b",
   "metadata": {},
   "outputs": [],
   "source": [
    "model = keras.Sequential([\n",
    "  keras.layers.Dense(10, activation='relu'),\n",
    "  keras.layers.Dense(1, activation='sigmoid')\n",
    "])"
   ]
  },
  {
   "cell_type": "markdown",
   "id": "290446bf",
   "metadata": {},
   "source": [
    "Uma rede com apenas uma camada intermediária composta por 10 perceptrons."
   ]
  },
  {
   "cell_type": "code",
   "execution_count": 21,
   "id": "85d9f653",
   "metadata": {},
   "outputs": [
    {
     "name": "stdout",
     "output_type": "stream",
     "text": [
      "100/100 [==============================] - 0s 1ms/step - loss: 0.4459 - binary_accuracy: 0.7994\n"
     ]
    }
   ],
   "source": [
    "model = keras.Sequential([\n",
    "  keras.layers.Dense(10, activation='relu'),\n",
    "  keras.layers.Dense(1, activation='sigmoid')\n",
    "])\n",
    "model.compile(loss=\"binary_crossentropy\", metrics=[\"binary_accuracy\"])\n",
    "early_stopping = keras.callbacks.EarlyStopping(\n",
    "        patience=10,\n",
    "        min_delta=0.001,\n",
    "        restore_best_weights=True,)\n",
    "\n",
    "history = model.fit(\n",
    "    x_train, y_train,\n",
    "    validation_data=(x_test, y_test),\n",
    "    batch_size=512,\n",
    "    epochs=1000,\n",
    "    callbacks=[early_stopping],\n",
    "    verbose=0, # hide the output because we have so many epochs\n",
    ")\n",
    "evaluation = model.evaluate(x_test, y_test)\n"
   ]
  },
  {
   "cell_type": "markdown",
   "id": "a12f236f",
   "metadata": {},
   "source": [
    "**Explicação**\n",
    "\n",
    "Como temos um problema de classificação binário, a função de perda utilizada é \"binary_crossentropy\"(a mais utilizada nesses cenários).\n",
    "\n",
    "Para avaliarmos nosso modelo, iremos verificar sua acurácia.\n",
    "\n",
    "Depois treinamos nosso modelo em um conjunto de treino e avaliamos seu desempenho em um conjunto de teste. \n",
    "\n",
    "Salvamos ao final o modelo treinado, seu \"histórico de treino\" e sua avaliação no conjunto de teste."
   ]
  },
  {
   "cell_type": "code",
   "execution_count": 22,
   "id": "d0038e6a",
   "metadata": {},
   "outputs": [
    {
     "name": "stdout",
     "output_type": "stream",
     "text": [
      "Acurácia no conjunto de teste: 0.7993749976158142\n"
     ]
    }
   ],
   "source": [
    "print(f\"Acurácia no conjunto de teste: {evaluation[1]}\")"
   ]
  },
  {
   "cell_type": "markdown",
   "id": "29406b50",
   "metadata": {},
   "source": [
    "nossa simples rede classificou corretamente o \"lattice\" em 79.7% das vezes no conjunto de dados não visto durante o treino"
   ]
  },
  {
   "cell_type": "code",
   "execution_count": 23,
   "id": "e47991bf",
   "metadata": {},
   "outputs": [],
   "source": [
    "def simple_net_calc_prob(teste,trained_model, temps):\n",
    "    prob_0 = dict()\n",
    "    prob_1 = dict()\n",
    "    \n",
    "    for temp in teste.keys():\n",
    "        prob_0[temp] = list()\n",
    "        prob_1[temp] = list()\n",
    "        for conf in teste[temp]:\n",
    "            element = np.expand_dims(conf[0],axis=0)\n",
    "            \n",
    "            prob = trained_model.predict(element, verbose=0)\n",
    "            elemen_prob_1 = prob[0][0]\n",
    "            elemen_prob_0 = 1 - elemen_prob_1\n",
    "            \n",
    "            prob_0[temp].append(elemen_prob_0)\n",
    "            prob_1[temp].append(elemen_prob_1)\n",
    "    \n",
    "    return prob_0, prob_1\n",
    "    "
   ]
  },
  {
   "cell_type": "markdown",
   "id": "e76b9b3a",
   "metadata": {},
   "source": [
    "Iremos iterar novamente sobre o conjunto de testes, agora salvando cada previsão feita."
   ]
  },
  {
   "cell_type": "code",
   "execution_count": 24,
   "id": "baee7dc8",
   "metadata": {},
   "outputs": [],
   "source": [
    "prob_0, prob_1 = simple_net_calc_prob(teste, model, temps)"
   ]
  },
  {
   "cell_type": "markdown",
   "id": "4a0e37f7",
   "metadata": {},
   "source": [
    "#### Gráficos"
   ]
  },
  {
   "cell_type": "code",
   "execution_count": 25,
   "id": "db06118e",
   "metadata": {},
   "outputs": [],
   "source": [
    "all_values_prob_0 = list(prob_0.values())[0]+list(prob_0.values())[1]+\\\n",
    "                    list(prob_0.values())[2]+list(prob_0.values())[3]+\\\n",
    "                    list(prob_0.values())[4]+list(prob_0.values())[5]+\\\n",
    "                    list(prob_0.values())[6]+list(prob_0.values())[7]\n",
    "\n",
    "all_values_prob_1 = list(prob_1.values())[0]+list(prob_1.values())[1]+\\\n",
    "                    list(prob_1.values())[2]+list(prob_1.values())[3]+\\\n",
    "                    list(prob_1.values())[4]+list(prob_1.values())[5]+\\\n",
    "                    list(prob_1.values())[6]+list(prob_1.values())[7]"
   ]
  },
  {
   "cell_type": "code",
   "execution_count": 26,
   "id": "fb1a037b",
   "metadata": {},
   "outputs": [
    {
     "data": {
      "text/plain": [
       "<matplotlib.lines.Line2D at 0x7fc1104a2190>"
      ]
     },
     "execution_count": 26,
     "metadata": {},
     "output_type": "execute_result"
    },
    {
     "data": {
      "image/png": "[encoded data removed]",
      "text/plain": [
       "<Figure size 432x288 with 1 Axes>"
      ]
     },
     "metadata": {
      "needs_background": "light"
     },
     "output_type": "display_data"
    }
   ],
   "source": [
    "plt.plot(temps, all_values_prob_0)\n",
    "plt.plot(temps, all_values_prob_1)\n",
    "plt.axvline(ising_tc, color='g')"
   ]
  },
  {
   "cell_type": "markdown",
   "id": "95265540",
   "metadata": {},
   "source": [
    "Em um primeiro momento é possível observar que o grau de 'confusão' da rede aumenta no intervalo entre 2.0 graus e 2.5 graus, e sabemos que a temperatura de transição de fase encontra-se nesse intervalo."
   ]
  },
  {
   "cell_type": "markdown",
   "id": "41228064",
   "metadata": {},
   "source": [
    "Para uma melhor visualização, vamos tirar o resultado médio para cada temperatura"
   ]
  },
  {
   "cell_type": "code",
   "execution_count": 27,
   "id": "79c943ec",
   "metadata": {},
   "outputs": [],
   "source": [
    "def melhor_viz(prob_0, prob_1):\n",
    "    mean_prob_0 = list()\n",
    "    mean_prob_1 = list()\n",
    "\n",
    "    for temp in prob_0.keys():\n",
    "        tmp_prob_0 = sum(prob_0[temp]) / len(prob_0[temp])\n",
    "        tmp_prob_1 = sum(prob_1[temp]) / len(prob_1[temp])\n",
    "\n",
    "        mean_prob_0.append(tmp_prob_0)\n",
    "        mean_prob_1.append(tmp_prob_1)\n",
    "\n",
    "    plt.plot(prob_0.keys(), mean_prob_0)\n",
    "    plt.plot(prob_0.keys(), mean_prob_1)\n",
    "    plt.axvline(ising_tc, color='g')"
   ]
  },
  {
   "cell_type": "code",
   "execution_count": 28,
   "id": "fd2dbd9e",
   "metadata": {},
   "outputs": [
    {
     "data": {
      "image/png": "[encoded data removed]",
      "text/plain": [
       "<Figure size 432x288 with 1 Axes>"
      ]
     },
     "metadata": {
      "needs_background": "light"
     },
     "output_type": "display_data"
    }
   ],
   "source": [
    "melhor_viz(prob_0, prob_1)"
   ]
  },
  {
   "cell_type": "markdown",
   "id": "dd663d77",
   "metadata": {},
   "source": [
    "Assim percebemos que o 'ponto de confusão' máximo da rede encontra-se incrivelmente perto da temperatura de transição de fase."
   ]
  },
  {
   "cell_type": "markdown",
   "id": "dc436db4",
   "metadata": {},
   "source": [
    "### Utilizando uma rede um pouco mais complexa"
   ]
  },
  {
   "cell_type": "code",
   "execution_count": 29,
   "id": "4b19c353",
   "metadata": {},
   "outputs": [],
   "source": [
    "more_cpx_model = keras.Sequential([\n",
    "    layers.Dense(4, activation='relu'),\n",
    "    layers.Dense(10, activation='relu'),\n",
    "    layers.Dense(4, activation='relu'),    \n",
    "    layers.Dense(1, activation='sigmoid'),\n",
    "])\n",
    "more_cpx_model.compile(optimizer='adam',loss='binary_crossentropy',metrics=['binary_accuracy'])\n",
    "\n",
    "early_stopping = keras.callbacks.EarlyStopping(\n",
    "    patience=10,\n",
    "    min_delta=0.001,\n",
    "    restore_best_weights=True,\n",
    ")\n",
    "\n",
    "more_cpx_model_history = more_cpx_model.fit(\n",
    "    x_train, y_train,\n",
    "    validation_data=(x_test, y_test),\n",
    "    batch_size=512,\n",
    "    epochs=1000,\n",
    "    callbacks=[early_stopping],\n",
    "    verbose=0, # hide the output because we have so many epochs\n",
    ")\n"
   ]
  },
  {
   "cell_type": "code",
   "execution_count": 30,
   "id": "b4c1973b",
   "metadata": {},
   "outputs": [
    {
     "name": "stdout",
     "output_type": "stream",
     "text": [
      "100/100 [==============================] - 0s 879us/step - loss: 0.5036 - binary_accuracy: 0.7581\n"
     ]
    }
   ],
   "source": [
    "more_cpx_model_evaluate = more_cpx_model.evaluate(x_test, y_test)"
   ]
  },
  {
   "cell_type": "code",
   "execution_count": 31,
   "id": "cadda52e",
   "metadata": {},
   "outputs": [
    {
     "name": "stdout",
     "output_type": "stream",
     "text": [
      "Acurácia no conjunto de teste: 0.7581250071525574\n"
     ]
    }
   ],
   "source": [
    "print(f\"Acurácia no conjunto de teste: {more_cpx_model_evaluate[1]}\")"
   ]
  },
  {
   "cell_type": "code",
   "execution_count": 32,
   "id": "bc33e199",
   "metadata": {},
   "outputs": [],
   "source": [
    "m_prob_0, m_prob_1 = simple_net_calc_prob(teste, more_cpx_model, temps)"
   ]
  },
  {
   "cell_type": "code",
   "execution_count": 33,
   "id": "7a665d99",
   "metadata": {},
   "outputs": [
    {
     "data": {
      "image/png": "[encoded data removed]",
      "text/plain": [
       "<Figure size 432x288 with 1 Axes>"
      ]
     },
     "metadata": {
      "needs_background": "light"
     },
     "output_type": "display_data"
    }
   ],
   "source": [
    "melhor_viz(m_prob_0, m_prob_1)"
   ]
  },
  {
   "cell_type": "markdown",
   "id": "532aba2c",
   "metadata": {},
   "source": [
    "### Redes mais complexas"
   ]
  },
  {
   "cell_type": "markdown",
   "id": "467dd496",
   "metadata": {},
   "source": [
    "#### Le Net 5"
   ]
  },
  {
   "cell_type": "code",
   "execution_count": 34,
   "id": "aa38f1f8",
   "metadata": {},
   "outputs": [
    {
     "name": "stdout",
     "output_type": "stream",
     "text": [
      "Epoch 1/10\n",
      "360/360 [==============================] - 2s 2ms/step - loss: 0.4786 - binary_accuracy: 0.7716 - val_loss: 0.1696 - val_binary_accuracy: 0.9914\n",
      "Epoch 2/10\n",
      "360/360 [==============================] - 1s 2ms/step - loss: 0.4594 - binary_accuracy: 0.7833 - val_loss: 0.1257 - val_binary_accuracy: 0.9945\n",
      "Epoch 3/10\n",
      "360/360 [==============================] - 1s 2ms/step - loss: 0.4575 - binary_accuracy: 0.7863 - val_loss: 0.1430 - val_binary_accuracy: 0.9945\n",
      "Epoch 4/10\n",
      "360/360 [==============================] - 1s 2ms/step - loss: 0.4538 - binary_accuracy: 0.7869 - val_loss: 0.1068 - val_binary_accuracy: 0.9937\n",
      "Epoch 5/10\n",
      "360/360 [==============================] - 1s 2ms/step - loss: 0.4524 - binary_accuracy: 0.7891 - val_loss: 0.1545 - val_binary_accuracy: 0.9922\n",
      "Epoch 6/10\n",
      "360/360 [==============================] - 1s 2ms/step - loss: 0.4536 - binary_accuracy: 0.7891 - val_loss: 0.1538 - val_binary_accuracy: 0.9930\n",
      "Epoch 7/10\n",
      "360/360 [==============================] - 1s 2ms/step - loss: 0.4543 - binary_accuracy: 0.7878 - val_loss: 0.1233 - val_binary_accuracy: 0.9953\n",
      "Epoch 8/10\n",
      "360/360 [==============================] - 1s 2ms/step - loss: 0.4502 - binary_accuracy: 0.7899 - val_loss: 0.1241 - val_binary_accuracy: 0.9930\n",
      "Epoch 9/10\n",
      "360/360 [==============================] - 1s 2ms/step - loss: 0.4496 - binary_accuracy: 0.7911 - val_loss: 0.1311 - val_binary_accuracy: 0.9945\n",
      "Epoch 10/10\n",
      "360/360 [==============================] - 1s 2ms/step - loss: 0.4501 - binary_accuracy: 0.7896 - val_loss: 0.1395 - val_binary_accuracy: 0.9922\n",
      "100/100 [==============================] - 0s 1ms/step - loss: 0.4330 - binary_accuracy: 0.8019\n"
     ]
    }
   ],
   "source": [
    "x_train = x_train.reshape(-1, 8, 8, 1)\n",
    "x_test = x_test.reshape(-1, 8, 8, 1)\n",
    "\n",
    "le_net_model = keras.models.Sequential([\n",
    "    keras.layers.Input(shape=(8, 8, 1)),\n",
    "    keras.layers.Conv2D(6, kernel_size=(3, 3), activation='tanh', padding='valid'),\n",
    "    keras.layers.MaxPooling2D(pool_size=(2, 2)),\n",
    "    keras.layers.Conv2D(16, kernel_size=(3, 3), activation='tanh', padding='valid'),\n",
    "    keras.layers.Flatten(),\n",
    "    keras.layers.Dense(120, activation='tanh'),\n",
    "    keras.layers.Dropout(0.2),\n",
    "    keras.layers.Dense(84, activation='tanh'),\n",
    "    keras.layers.Dense(1, activation='sigmoid')\n",
    "])\n",
    "\n",
    "le_net_model.compile(optimizer='adam', loss='binary_crossentropy', metrics=['binary_accuracy'])\n",
    "\n",
    "history_le_net_model = le_net_model.fit(x_train, y_train, epochs=10, batch_size=32, validation_split=0.1)\n",
    "evaluation_le_net_model = le_net_model.evaluate(x_test, y_test)"
   ]
  },
  {
   "cell_type": "code",
   "execution_count": 35,
   "id": "47c18662",
   "metadata": {},
   "outputs": [
    {
     "name": "stdout",
     "output_type": "stream",
     "text": [
      "Acurácia no conjunto de teste: 0.8018749952316284\n"
     ]
    }
   ],
   "source": [
    "print(f\"Acurácia no conjunto de teste: {evaluation_le_net_model[1]}\")"
   ]
  },
  {
   "cell_type": "code",
   "execution_count": 36,
   "id": "53332245",
   "metadata": {},
   "outputs": [],
   "source": [
    "def le_net_calc_prob(teste, model):\n",
    "    prob_0 = dict()\n",
    "    prob_1 = dict()\n",
    "    \n",
    "    for temp in teste.keys():\n",
    "        prob_0[temp] = list()\n",
    "        prob_1[temp] = list()\n",
    "        \n",
    "        for conf in teste[temp]:\n",
    "            element = conf[0].reshape(-1, 8, 8, 1)\n",
    "            \n",
    "            prob = model.predict(element, verbose=0)\n",
    "            \n",
    "            elemen_prob_1 = prob[0][0]\n",
    "            elemen_prob_0 = 1 - elemen_prob_1\n",
    "            \n",
    "            prob_0[temp].append(elemen_prob_0)\n",
    "            prob_1[temp].append(elemen_prob_1)\n",
    "    \n",
    "    return prob_0, prob_1\n",
    "            "
   ]
  },
  {
   "cell_type": "code",
   "execution_count": 37,
   "id": "6eb9553a",
   "metadata": {},
   "outputs": [],
   "source": [
    "le_net_prob_0, le_net_prob_1 = le_net_calc_prob(teste, le_net_model)"
   ]
  },
  {
   "cell_type": "code",
   "execution_count": 38,
   "id": "b4760d0f",
   "metadata": {},
   "outputs": [
    {
     "data": {
      "image/png": "[encoded data removed]",
      "text/plain": [
       "<Figure size 432x288 with 1 Axes>"
      ]
     },
     "metadata": {
      "needs_background": "light"
     },
     "output_type": "display_data"
    }
   ],
   "source": [
    "def le_net_melhor_viz():\n",
    "    mean_prob_0 = list()\n",
    "    mean_prob_1 = list()\n",
    "\n",
    "    for temp in le_net_prob_0.keys():\n",
    "        tmp_prob_0 = sum(le_net_prob_0[temp]) / len(le_net_prob_0[temp])\n",
    "        tmp_prob_1 = sum(le_net_prob_1[temp]) / len(le_net_prob_1[temp])\n",
    "\n",
    "        mean_prob_0.append(tmp_prob_0)\n",
    "        mean_prob_1.append(tmp_prob_1)\n",
    "\n",
    "    plt.plot(prob_0.keys(), mean_prob_0)\n",
    "    plt.plot(prob_0.keys(), mean_prob_1)\n",
    "    plt.axvline(ising_tc, color='g')\n",
    "\n",
    "le_net_melhor_viz()"
   ]
  },
  {
   "cell_type": "markdown",
   "id": "5bd0f86d",
   "metadata": {},
   "source": [
    "#### AlexNet"
   ]
  },
  {
   "cell_type": "code",
   "execution_count": 39,
   "id": "29bb8fb2",
   "metadata": {},
   "outputs": [],
   "source": [
    "alex_net_model = keras.models.Sequential([\n",
    "    keras.layers.Input(shape=(8, 8, 1)),\n",
    "    keras.layers.Conv2D(96, kernel_size=(3, 3), strides=(2, 2), activation='relu'),\n",
    "    keras.layers.Conv2D(256, kernel_size=(5, 5), padding='same', activation='relu'),\n",
    "    keras.layers.Conv2D(384, kernel_size=(3, 3), padding='same', activation='relu'),\n",
    "    keras.layers.Conv2D(384, kernel_size=(3, 3), padding='same', activation='relu'),\n",
    "    keras.layers.Conv2D(256, kernel_size=(3, 3), padding='same', activation='relu'),\n",
    "    keras.layers.Flatten(),\n",
    "    keras.layers.Dense(4096, activation='relu'),\n",
    "    keras.layers.Dropout(0.5),\n",
    "    keras.layers.Dense(4096, activation='relu'),\n",
    "    keras.layers.Dropout(0.5),\n",
    "    keras.layers.Dense(1, activation='sigmoid')\n",
    "])\n",
    "# Compile the model\n",
    "alex_net_model.compile(optimizer='adam', loss='binary_crossentropy', metrics=['binary_accuracy'])\n"
   ]
  },
  {
   "cell_type": "code",
   "execution_count": 40,
   "id": "5e54068f",
   "metadata": {},
   "outputs": [
    {
     "name": "stdout",
     "output_type": "stream",
     "text": [
      "Epoch 1/10\n",
      "360/360 [==============================] - 142s 392ms/step - loss: 0.5174 - binary_accuracy: 0.7510 - val_loss: 0.1151 - val_binary_accuracy: 0.9844\n",
      "Epoch 2/10\n",
      "360/360 [==============================] - 134s 373ms/step - loss: 0.4683 - binary_accuracy: 0.7807 - val_loss: 0.2355 - val_binary_accuracy: 0.9945\n",
      "Epoch 3/10\n",
      "360/360 [==============================] - 134s 373ms/step - loss: 0.4665 - binary_accuracy: 0.7786 - val_loss: 0.2450 - val_binary_accuracy: 0.9828\n",
      "Epoch 4/10\n",
      "360/360 [==============================] - 138s 383ms/step - loss: 0.4593 - binary_accuracy: 0.7841 - val_loss: 0.1143 - val_binary_accuracy: 0.9953\n",
      "Epoch 5/10\n",
      "360/360 [==============================] - 140s 390ms/step - loss: 0.4442 - binary_accuracy: 0.7915 - val_loss: 0.1161 - val_binary_accuracy: 0.9844\n",
      "Epoch 6/10\n",
      "360/360 [==============================] - 149s 414ms/step - loss: 0.4177 - binary_accuracy: 0.8025 - val_loss: 0.1078 - val_binary_accuracy: 0.9711\n",
      "Epoch 7/10\n",
      "360/360 [==============================] - 149s 415ms/step - loss: 0.3869 - binary_accuracy: 0.8264 - val_loss: 0.1543 - val_binary_accuracy: 0.9438\n",
      "Epoch 8/10\n",
      "360/360 [==============================] - 139s 386ms/step - loss: 0.3492 - binary_accuracy: 0.8484 - val_loss: 0.1307 - val_binary_accuracy: 0.9484\n",
      "Epoch 9/10\n",
      "360/360 [==============================] - 134s 372ms/step - loss: 0.3139 - binary_accuracy: 0.8694 - val_loss: 0.1291 - val_binary_accuracy: 0.9430\n",
      "Epoch 10/10\n",
      "360/360 [==============================] - 134s 372ms/step - loss: 0.2828 - binary_accuracy: 0.8905 - val_loss: 0.1743 - val_binary_accuracy: 0.9250\n",
      "100/100 [==============================] - 2s 25ms/step - loss: 0.6752 - binary_accuracy: 0.7713\n"
     ]
    }
   ],
   "source": [
    "history_alex_net = alex_net_model.fit(x_train, y_train, epochs=10, batch_size=32, validation_split=0.1)\n",
    "evaluation_alex_net = alex_net_model.evaluate(x_test, y_test)"
   ]
  },
  {
   "cell_type": "code",
   "execution_count": 41,
   "id": "663cf482",
   "metadata": {},
   "outputs": [
    {
     "name": "stdout",
     "output_type": "stream",
     "text": [
      "Test Accuracy: 0.7712500095367432\n"
     ]
    }
   ],
   "source": [
    "print(f\"Test Accuracy: {evaluation_alex_net[1]}\")"
   ]
  },
  {
   "cell_type": "code",
   "execution_count": 42,
   "id": "663776bc",
   "metadata": {},
   "outputs": [],
   "source": [
    "def alex_net_calc_prob(teste, model):\n",
    "    prob_0 = dict()\n",
    "    prob_1 = dict()\n",
    "    \n",
    "    for temp in teste.keys():\n",
    "        prob_0[temp] = list()\n",
    "        prob_1[temp] = list()\n",
    "        \n",
    "        for conf in teste[temp]:\n",
    "            element = conf[0].reshape(-1, 8, 8, 1)\n",
    "            \n",
    "            prob = model.predict(element, verbose=0)\n",
    "            \n",
    "            elemen_prob_1 = prob[0][0]\n",
    "            elemen_prob_0 = 1 - elemen_prob_1\n",
    "            \n",
    "            prob_0[temp].append(elemen_prob_0)\n",
    "            prob_1[temp].append(elemen_prob_1)\n",
    "    \n",
    "    return prob_0, prob_1\n",
    "\n",
    "alex_net_prob_0, alex_net_prob_1 = alex_net_calc_prob(teste, alex_net_model)"
   ]
  },
  {
   "cell_type": "code",
   "execution_count": 43,
   "id": "ac37aeb7",
   "metadata": {},
   "outputs": [
    {
     "data": {
      "image/png": "[encoded data removed]",
      "text/plain": [
       "<Figure size 432x288 with 1 Axes>"
      ]
     },
     "metadata": {
      "needs_background": "light"
     },
     "output_type": "display_data"
    }
   ],
   "source": [
    "def alex_net_melhor_viz():\n",
    "    mean_prob_0 = list()\n",
    "    mean_prob_1 = list()\n",
    "\n",
    "    for temp in le_net_prob_0.keys():\n",
    "        tmp_prob_0 = sum(alex_net_prob_0[temp]) / len(alex_net_prob_0[temp])\n",
    "        tmp_prob_1 = sum(alex_net_prob_1[temp]) / len(alex_net_prob_1[temp])\n",
    "\n",
    "        mean_prob_0.append(tmp_prob_0)\n",
    "        mean_prob_1.append(tmp_prob_1)\n",
    "\n",
    "    plt.plot(prob_0.keys(), mean_prob_0)\n",
    "    plt.plot(prob_0.keys(), mean_prob_1)\n",
    "    plt.axvline(ising_tc, color='g')\n",
    "\n",
    "alex_net_melhor_viz()"
   ]
  },
  {
   "cell_type": "markdown",
   "id": "b32bd4d2",
   "metadata": {},
   "source": [
    "#### Vgg net "
   ]
  },
  {
   "cell_type": "markdown",
   "id": "efae3175",
   "metadata": {},
   "source": [
    "Vgg net não roda no sistema utilizado. Utilizaremos o colab no futuro para tentar rodar"
   ]
  },
  {
   "cell_type": "code",
   "execution_count": 44,
   "id": "d6cec4d3",
   "metadata": {},
   "outputs": [
    {
     "data": {
      "text/plain": [
       "\"\\nvgg_net_model = keras.models.Sequential([\\nkeras.layers.Input(shape=(8, 8, 1)),\\nkeras.layers.Conv2D(64, kernel_size=(3, 3), padding='same', activation='relu'),\\nkeras.layers.Conv2D(64, kernel_size=(3, 3), padding='same', activation='relu'),\\n#layers.MaxPooling2D(pool_size=(2, 2), strides=(2, 2)),\\nkeras.layers.Conv2D(128, kernel_size=(3, 3), padding='same', activation='relu'),\\nkeras.layers.Conv2D(128, kernel_size=(3, 3), padding='same', activation='relu'),\\n#layers.MaxPooling2D(pool_size=(2, 2), strides=(2, 2)),\\nkeras.layers.Conv2D(256, kernel_size=(3, 3), padding='same', activation='relu'),\\nkeras.layers.Conv2D(256, kernel_size=(3, 3), padding='same', activation='relu'),\\nkeras.layers.Conv2D(256, kernel_size=(3, 3), padding='same', activation='relu'),\\n#layers.MaxPooling2D(pool_size=(2, 2), strides=(2, 2)),\\nkeras.layers.Conv2D(512, kernel_size=(3, 3), padding='same', activation='relu'),\\nkeras.layers.Conv2D(512, kernel_size=(3, 3), padding='same', activation='relu'),\\nkeras.layers.Conv2D(512, kernel_size=(3, 3), padding='same', activation='relu'),\\n#layers.MaxPooling2D(pool_size=(2, 2), strides=(2, 2)),\\nkeras.layers.Conv2D(512, kernel_size=(3, 3), padding='same', activation='relu'),\\nkeras.layers.Conv2D(512, kernel_size=(3, 3), padding='same', activation='relu'),\\nkeras.layers.Conv2D(512, kernel_size=(3, 3), padding='same', activation='relu'),\\n#layers.MaxPooling2D(pool_size=(2, 2), strides=(2, 2)),\\nkeras.layers.Flatten(),\\nkeras.layers.Dense(4096, activation='relu'),\\nkeras.layers.Dropout(0.5),\\nkeras.layers.Dense(4096, activation='relu'),\\nkeras.layers.Dropout(0.5),\\nkeras.layers.Dense(1, activation='sigmoid')\\n])\\n\""
      ]
     },
     "execution_count": 44,
     "metadata": {},
     "output_type": "execute_result"
    }
   ],
   "source": [
    "\"\"\"\n",
    "vgg_net_model = keras.models.Sequential([\n",
    "keras.layers.Input(shape=(8, 8, 1)),\n",
    "keras.layers.Conv2D(64, kernel_size=(3, 3), padding='same', activation='relu'),\n",
    "keras.layers.Conv2D(64, kernel_size=(3, 3), padding='same', activation='relu'),\n",
    "#layers.MaxPooling2D(pool_size=(2, 2), strides=(2, 2)),\n",
    "keras.layers.Conv2D(128, kernel_size=(3, 3), padding='same', activation='relu'),\n",
    "keras.layers.Conv2D(128, kernel_size=(3, 3), padding='same', activation='relu'),\n",
    "#layers.MaxPooling2D(pool_size=(2, 2), strides=(2, 2)),\n",
    "keras.layers.Conv2D(256, kernel_size=(3, 3), padding='same', activation='relu'),\n",
    "keras.layers.Conv2D(256, kernel_size=(3, 3), padding='same', activation='relu'),\n",
    "keras.layers.Conv2D(256, kernel_size=(3, 3), padding='same', activation='relu'),\n",
    "#layers.MaxPooling2D(pool_size=(2, 2), strides=(2, 2)),\n",
    "keras.layers.Conv2D(512, kernel_size=(3, 3), padding='same', activation='relu'),\n",
    "keras.layers.Conv2D(512, kernel_size=(3, 3), padding='same', activation='relu'),\n",
    "keras.layers.Conv2D(512, kernel_size=(3, 3), padding='same', activation='relu'),\n",
    "#layers.MaxPooling2D(pool_size=(2, 2), strides=(2, 2)),\n",
    "keras.layers.Conv2D(512, kernel_size=(3, 3), padding='same', activation='relu'),\n",
    "keras.layers.Conv2D(512, kernel_size=(3, 3), padding='same', activation='relu'),\n",
    "keras.layers.Conv2D(512, kernel_size=(3, 3), padding='same', activation='relu'),\n",
    "#layers.MaxPooling2D(pool_size=(2, 2), strides=(2, 2)),\n",
    "keras.layers.Flatten(),\n",
    "keras.layers.Dense(4096, activation='relu'),\n",
    "keras.layers.Dropout(0.5),\n",
    "keras.layers.Dense(4096, activation='relu'),\n",
    "keras.layers.Dropout(0.5),\n",
    "keras.layers.Dense(1, activation='sigmoid')\n",
    "])\n",
    "\"\"\""
   ]
  },
  {
   "cell_type": "code",
   "execution_count": 45,
   "id": "ea15924c",
   "metadata": {},
   "outputs": [],
   "source": [
    "#vgg_net_model.compile(optimizer='adam', \n",
    "#                      loss='binary_crossentropy',\n",
    "#                      metrics=['binary_accuracy'])\n",
    "#history_vgg_net = vgg_net_model.fit(x_train, y_train, epochs=10, batch_size=32, validation_split=0.1)\n",
    "#evaluation_vgg_net = vgg_net_model.evaluate(x_test, y_test)"
   ]
  },
  {
   "cell_type": "markdown",
   "id": "656d9c8c",
   "metadata": {},
   "source": [
    "**Algumas conclusões**\n",
    "\n",
    "- Arquiteturas básicas já são capazes de reconhecer as fases do sistema, especialmente as fases em temperaturas mais extremas.\n",
    "\n",
    "- Uma rede em que o ponto máximo de confusão coincida com a solução de Onsager não necessariamente é uma rede que teve um melhor desempenho, vimos isso pois uma rede mais básica coincidiu melhor com a temperatura de transição de fase do que redes mais complexas, mesmo a rede mais básica tendo um desempenho pior na avaliação no conjunto de testes. Ainda sim a capaciadade de reconhecimento de padrões em um sistema complexo é notável."
   ]
  },
  {
   "cell_type": "code",
   "execution_count": 46,
   "id": "3d5602e9",
   "metadata": {},
   "outputs": [],
   "source": [
    "model.save('model.keras')\n",
    "more_cpx_model.save('more_cpx_model.keras')\n",
    "le_net_model.save('le_net_model.keras')\n",
    "alex_net_model.save('alex_net_model.keras')"
   ]
  },
  {
   "cell_type": "code",
   "execution_count": 47,
   "id": "a5966e8b",
   "metadata": {},
   "outputs": [],
   "source": [
    "# Para carregar os modelos e realizar testes sem ter que treinar novamente\n",
    "# model          = keras.models.load_model('model.keras')\n",
    "# more_cpx_model = keras.models.load_model('more_cpx_model.keras')\n",
    "# le_net_model   = keras.models.load_model('le_net_model.keras')\n",
    "# alex_net_model = keras.models.load_model('alex_net_model.keras')"
   ]
  }
 ],
 "metadata": {
  "kernelspec": {
   "display_name": "Python 3 (ipykernel)",
   "language": "python",
   "name": "python3"
  },
  "language_info": {
   "codemirror_mode": {
    "name": "ipython",
    "version": 3
   },
   "file_extension": ".py",
   "mimetype": "text/x-python",
   "name": "python",
   "nbconvert_exporter": "python",
   "pygments_lexer": "ipython3",
   "version": "3.9.12"
  }
 },
 "nbformat": 4,
 "nbformat_minor": 5
}
